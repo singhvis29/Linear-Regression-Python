{
 "cells": [
  {
   "cell_type": "code",
   "execution_count": 1,
   "metadata": {},
   "outputs": [],
   "source": [
    "import numpy as np\n",
    "import matplotlib.pyplot as plt\n",
    "from sklearn.datasets import load_boston"
   ]
  },
  {
   "cell_type": "code",
   "execution_count": 2,
   "metadata": {},
   "outputs": [
    {
     "name": "stdout",
     "output_type": "stream",
     "text": [
      "Total samples in our dataset is: 506\n",
      "Total variables (predictors) in our dataset is: 13\n"
     ]
    }
   ],
   "source": [
    "dataset = load_boston()\n",
    "\n",
    "X = dataset.data\n",
    "y = dataset.target[:,np.newaxis]\n",
    "\n",
    "print(\"Total samples in our dataset is: {}\".format(X.shape[0]))\n",
    "print(\"Total variables (predictors) in our dataset is: {}\".format(X.shape[1]))"
   ]
  },
  {
   "cell_type": "code",
   "execution_count": 3,
   "metadata": {},
   "outputs": [],
   "source": [
    "def calc_cost(y, x, params):\n",
    "    '''\n",
    "    Given parameters/weights/coefficients, this function calculates the cost \n",
    "    cost is given as Mean Square Error between actual and predicted values\n",
    "    '''\n",
    "    n = len(y)\n",
    "    hx = (x@params)\n",
    "    mse = (1/(2*n))*np.sum((hx-y)**2)\n",
    "    return mse"
   ]
  },
  {
   "cell_type": "code",
   "execution_count": 4,
   "metadata": {},
   "outputs": [],
   "source": [
    "def gradient_descent(x, y, params, learning_rate, num_iters):\n",
    "    n = len(y)\n",
    "    j_history = np.zeros((num_iters, 1))\n",
    "    for i in range(num_iters):\n",
    "        dj = (1/n)*(x.T@((x@params)-y))\n",
    "        params = params - learning_rate*dj\n",
    "        j_history[i] = calc_cost(y, x, params)\n",
    "    return (j_history, params)\n",
    "        "
   ]
  },
  {
   "cell_type": "code",
   "execution_count": 5,
   "metadata": {},
   "outputs": [],
   "source": [
    "# Normalize X\n",
    "n = len(y)\n",
    "\n",
    "mu = np.mean(X,0)\n",
    "sigma = np.std(X,0)\n",
    "\n",
    "X = (X-mu)/sigma\n",
    "\n",
    "X = np.hstack((np.ones((n,1)),X))\n",
    "n_features = np.size(X,1)\n",
    "params = np.zeros((n_features,1))"
   ]
  },
  {
   "cell_type": "code",
   "execution_count": 6,
   "metadata": {},
   "outputs": [
    {
     "name": "stdout",
     "output_type": "stream",
     "text": [
      "Initial Cost:296.0734584980237\n",
      "Final Parameters: [[17.50882955]\n",
      " [-0.59925666]\n",
      " [ 0.44475082]\n",
      " [-0.51319271]\n",
      " [ 0.85890553]\n",
      " [-0.46314076]\n",
      " [ 2.95449704]\n",
      " [-0.19076074]\n",
      " [-1.03806353]\n",
      " [ 0.18701864]\n",
      " [-0.44429382]\n",
      " [-1.60024791]\n",
      " [ 0.73320519]\n",
      " [-2.65133555]]\n",
      "Final Cost:25.044757271113504\n"
     ]
    }
   ],
   "source": [
    "# Perform Gradient Descent\n",
    "n_iters = 1500\n",
    "learning_rate = 1e-3\n",
    "\n",
    "initial_cost = calc_cost(y, X, params)\n",
    "\n",
    "print(\"Initial Cost:{0}\".format(initial_cost))\n",
    "\n",
    "Costs, params = gradient_descent(X, y, params, learning_rate, n_iters)\n",
    "\n",
    "print(\"Final Parameters: {0}\".format(params))\n",
    "\n",
    "final_cost = calc_cost(y, X, params)\n",
    "\n",
    "print(\"Final Cost:{0}\".format(final_cost))"
   ]
  },
  {
   "cell_type": "code",
   "execution_count": 7,
   "metadata": {},
   "outputs": [
    {
     "data": {
      "image/png": "[encoded data removed]",
      "text/plain": [
       "<Figure size 432x288 with 1 Axes>"
      ]
     },
     "metadata": {},
     "output_type": "display_data"
    }
   ],
   "source": [
    "plt.plot(range(len(Costs)), Costs, 'r')\n",
    "\n",
    "plt.title(\"Convergence Graph of Cost Function\")\n",
    "plt.xlabel(\"Number of Iterations\")\n",
    "plt.ylabel(\"Cost\")\n",
    "plt.show()"
   ]
  },
  {
   "cell_type": "code",
   "execution_count": null,
   "metadata": {},
   "outputs": [],
   "source": []
  },
  {
   "cell_type": "code",
   "execution_count": null,
   "metadata": {},
   "outputs": [],
   "source": []
  }
 ],
 "metadata": {
  "kernelspec": {
   "display_name": "Python 3",
   "language": "python",
   "name": "python3"
  },
  "language_info": {
   "codemirror_mode": {
    "name": "ipython",
    "version": 3
   },
   "file_extension": ".py",
   "mimetype": "text/x-python",
   "name": "python",
   "nbconvert_exporter": "python",
   "pygments_lexer": "ipython3",
   "version": "3.6.5"
  }
 },
 "nbformat": 4,
 "nbformat_minor": 2
}
